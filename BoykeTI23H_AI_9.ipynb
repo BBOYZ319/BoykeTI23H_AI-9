{
  "nbformat": 4,
  "nbformat_minor": 0,
  "metadata": {
    "colab": {
      "provenance": []
    },
    "kernelspec": {
      "name": "python3",
      "display_name": "Python 3"
    },
    "language_info": {
      "name": "python"
    }
  },
  "cells": [
    {
      "cell_type": "code",
      "execution_count": 1,
      "metadata": {
        "colab": {
          "base_uri": "https://localhost:8080/"
        },
        "id": "JQGq1DbllSQF",
        "outputId": "1c6d7c49-2ab1-44ef-db92-8cc56ef06a9b"
      },
      "outputs": [
        {
          "output_type": "stream",
          "name": "stderr",
          "text": [
            "/usr/local/lib/python3.11/dist-packages/keras/src/layers/core/dense.py:87: UserWarning: Do not pass an `input_shape`/`input_dim` argument to a layer. When using Sequential models, prefer using an `Input(shape)` object as the first layer in the model instead.\n",
            "  super().__init__(activity_regularizer=activity_regularizer, **kwargs)\n"
          ]
        },
        {
          "output_type": "stream",
          "name": "stdout",
          "text": [
            "\u001b[1m1/1\u001b[0m \u001b[32m━━━━━━━━━━━━━━━━━━━━\u001b[0m\u001b[37m\u001b[0m \u001b[1m0s\u001b[0m 55ms/step\n",
            "Probabilitas tidak bangkrut: 0.24294545\n",
            "Kesimpulan: bankrupt\n"
          ]
        }
      ],
      "source": [
        "import numpy as np\n",
        "from tensorflow.keras.models import Sequential\n",
        "from tensorflow.keras.layers import Dense\n",
        "\n",
        "# Data\n",
        "# x1 = property, x2 = debt\n",
        "X = np.array([\n",
        "    [0.7, 0.4],\n",
        "    [1.5, 1.2],\n",
        "    [0.9, 1.4],\n",
        "    [0.7, 1.1],\n",
        "    [1.3, 1.0]\n",
        "])\n",
        "\n",
        "# Target (Status: 1 = not bankrupt, 0 = bankrupt)\n",
        "y = np.array([1, 1, 0, 0, 1])\n",
        "\n",
        "# Model Jaringan Syaraf Tiruan - Single Layer Perceptron\n",
        "model = Sequential()\n",
        "model.add(Dense(1, input_dim=2, activation='sigmoid'))\n",
        "\n",
        "model.compile(loss='binary_crossentropy', optimizer='adam', metrics=['accuracy'])\n",
        "\n",
        "# Latih model\n",
        "model.fit(X, y, epochs=100, verbose=0)\n",
        "\n",
        "# Prediksi data baru (baris ke-6)\n",
        "data_baru = np.array([[0.8, 1.2]])\n",
        "prediksi = model.predict(data_baru)\n",
        "\n",
        "# Tampilkan hasil\n",
        "print(\"Probabilitas tidak bangkrut:\", prediksi[0][0])\n",
        "print(\"Kesimpulan:\", \"not bankrupt\" if prediksi[0][0] > 0.5 else \"bankrupt\")\n"
      ]
    }
  ]
}